{
 "cells": [
  {
   "cell_type": "markdown",
   "id": "0c40fdbd",
   "metadata": {},
   "source": [
    "## Level2 - Word Embeddings (Word2Vec, GloVe)"
   ]
  },
  {
   "cell_type": "markdown",
   "id": "3d96848b",
   "metadata": {},
   "source": [
    "## GloVe: Global Vectors for Word Representation\n",
    "\n",
    "GloVe is an **unsupervised learning algorithm** for obtaining vector representations for words. It combines the benefits of two main types of word embeddings:\n",
    "\n",
    "- **Count-based models** (like LSA) that leverage word co-occurrence matrices\n",
    "- **Predictive models** (like Word2Vec) that use context to predict word occurrence\n",
    "\n",
    "### Core Idea\n",
    "\n",
    "If two words appear in **similar contexts**, they are likely to have **similar meanings**. GloVe captures this by analyzing the **co-occurrence statistics** of words across a corpus.\n",
    "\n",
    "---\n",
    "\n",
    "### Co-occurrence Matrix\n",
    "\n",
    "Let:\n",
    "\n",
    "- $X_{ij}$ = number of times word $j$ appears in the context of word $i$\n",
    "\n",
    "\n",
    "GloVe is based on co-occurrence counts. Specifically, it builds a large matrix $𝑋$ where:    \n",
    "$𝑋_{𝑖𝑗}$ = number of times word $j$ appears in the context of word $i$ in the corpus.\n",
    "\n",
    "*Example*:\n",
    "\n",
    "Suppose your corpus is: \"The cat sat on the mat.\"\n",
    "\n",
    "You define a context window size, say 2 words to the left and right.\n",
    "\n",
    "Now walk through each word and count how often other words appear near it.\n",
    "\n",
    "Then the **ratio** of probabilities is important:    \n",
    "Let:    \n",
    "- $P_{ik} = $  Probability that word $k$ appears in context of $i$    \n",
    "- $P_{jk} = $  Probability that word $k$ appears in context of $j$    \n",
    "\n",
    "\n",
    "$$\n",
    "\\frac{P_{ik}}{P_{jk}} = \n",
    "\\frac{X_{ik}/X_i}{X_{jk}/X_j}\n",
    "$$\n",
    "\n",
    "This ratio tells us how much more likely word $k$ is to appear near word $i$ than word $j$.   \n",
    "This ratio is what defines the relative meaning between $i$ and $j$ using $k$ as probe.\n",
    "\n",
    "--- \n",
    "\n",
    "### What’s Learned?\n",
    "Each word gets a vector.\n",
    "\n",
    "Words with similar contexts have similar vectors.\n",
    "\n",
    "Vectors support linear reasoning:\n",
    "\n",
    "$ \\text{vec(\"king\")−vec(\"man\")+vec(\"woman\")≈vec(\"queen\")}$\n",
    "\n",
    "---\n",
    "\n",
    "### The GloVe Model\n",
    "\n",
    "We define word vectors $w_i$ and context vectors $\\tilde{w}_j$ such that their dot product predicts $X_{ij}$:\n",
    "\n",
    "$$\n",
    "w_i^\\top \\tilde{w}_j + b_i + \\tilde{b}_j = \\log(X_{ij})\n",
    "$$\n",
    "\n",
    "Where:\n",
    "\n",
    "- $w_i$, $\\tilde{w}_j$ = word and context embeddings\n",
    "- $b_i$, $\\tilde{b}_j$ = bias terms\n",
    "- $X_{ij}$ = number of co-occurrences between words $i$ and $j$   \n",
    "\n",
    "  Note: dimentionality of vocabulary space $V$ is large - possibly in billions of words   \n",
    "  However dimensionalitt if each word representing vector $w_i$ is much smaller -    \n",
    "  50 to 300.      \n",
    "\n",
    "\n",
    "This leads to the **loss function**:\n",
    "\n",
    "$$\n",
    "J = \\sum_{i,j=1}^{V} f(X_{ij}) \\left(w_i^\\top \\tilde{w}_j + b_i + \\tilde{b}_j - \\log(X_{ij}) \\right)^2\n",
    "$$\n",
    "\n",
    "\n",
    "Where:\n",
    "\n",
    "- $f(X_{ij})$ is a weighting function to reduce the impact of very frequent word pairs  \n",
    "\n",
    "Training: GloVe builds a co-occurrence matrix $X_{ij}$ (how often word i appears near word j)    \n",
    "then choses $w_i$, $\\tilde{w}_j$, $b_i$, $\\tilde{b}_j$ to minimize loss function. \n",
    "\n",
    "---\n",
    "\n",
    "### Final Embedding\n",
    "\n",
    "After training, the final embedding for each word is often:\n",
    "\n",
    "$$\n",
    "\t\\text{embedding}(i) = w_i + \\tilde{w}_i\n",
    "$$\n",
    "\n",
    "---\n",
    "\n",
    "## Summary\n",
    "\n",
    "- GloVe captures **global co-occurrence statistics**\n",
    "- Produces dense vector embeddings\n",
    "- Trained on massive corpora (e.g., Wikipedia, Common Crawl)\n",
    "- Embeddings reflect semantic similarity:  \n",
    "  e.g., `king - man + woman ≈ queen`\n",
    "\n",
    "## References    \n",
    "\n",
    "### Foundational Paper\n",
    "Title: **GloVe: Global Vectors for Word Representation**\n",
    "\n",
    "Authors: Jeffrey Pennington, Richard Socher, Christopher D. Manning\n",
    "\n",
    "Conference: EMNLP 2014\n",
    "\n",
    "Link: https://aclanthology.org/D14-1162/\n",
    "\n",
    "PDF: https://nlp.stanford.edu/pubs/glove.pdf\n",
    "\n",
    "This is the core paper introducing the model, showing how word vectors can be learned from global word-word co-occurrence statistics.\n",
    "\n",
    "\n",
    "### Official Project Page\n",
    "Stanford NLP GloVe site:\n",
    "https://nlp.stanford.edu/projects/glove/\n",
    "Includes:\n",
    "\n",
    "Pre-trained vectors (50D, 100D, 200D, 300D)\n",
    "\n",
    "Code and dataset download links\n",
    "\n",
    "Instructions for training on your own corpus\n",
    "\n",
    "\n",
    "### Code Repositories\n",
    "Original Stanford GloVe code (C implementation)\n",
    "https://github.com/stanfordnlp/GloVe\n",
    "\n",
    "Python wrappers and tutorials:\n",
    "\n",
    "glove-python: https://github.com/maciejkula/glove-python\n",
    "\n",
    "Gensim wrapper: https://radimrehurek.com/gensim/models/word2vec.html\n",
    "(GloVe vectors can be loaded into gensim like Word2Vec)\n",
    "\n",
    "### Additional Learning Resources\n",
    "[Stanford CS224N (Natural Language Processing with Deep Learning)](https://web.stanford.edu/class/cs224n/)\n",
    "\n",
    "Lecture videos and notes\n",
    "\n",
    "Covers word embeddings and contextual models\n",
    "\n",
    "Blog Tutorials:\n",
    "\n",
    "[Sebastian Ruder – Word Embeddings Explored](https://www.ruder.io/word-embeddings-1/)\n",
    "\n",
    "[Jay Alammar – Visualizing Word Embeddings](https://jalammar.github.io/illustrated-word2vec/)"
   ]
  },
  {
   "cell_type": "code",
   "execution_count": 13,
   "id": "ac5b59a3",
   "metadata": {},
   "outputs": [],
   "source": [
    "GLOVE_DIM = 200 # set to 50, 100, 200, or 300 depending on the glove file used\n",
    "REMOVE_STOPWORDS = True # Set to True to remove stopwords, False to keep them\n",
    "LEMATIZE = False # Set to True to lemmatize words, False to keep them as is\n",
    "LOAD_ALL_GLOVE = False # Set to True to load all GloVe vectors, False to load only the ones in the text"
   ]
  },
  {
   "cell_type": "markdown",
   "id": "98f07d64",
   "metadata": {},
   "source": [
    "### 0. Load pre-trained GloVe vectors\n",
    "\n",
    "Manually download [glove.6B.zip](https://nlp.stanford.edu/data/glove.6B.zip), unzip it and set path:"
   ]
  },
  {
   "cell_type": "code",
   "execution_count": 2,
   "id": "eae5f775",
   "metadata": {},
   "outputs": [],
   "source": [
    "glove_path = \"D:/work/_Languages/Python/glove/glove.6B.200d.txt\""
   ]
  },
  {
   "cell_type": "markdown",
   "id": "4738804a",
   "metadata": {},
   "source": [
    "**OR** use this code (OS agnostic)"
   ]
  },
  {
   "cell_type": "code",
   "execution_count": 3,
   "id": "f766fa33",
   "metadata": {},
   "outputs": [
    {
     "name": "stdout",
     "output_type": "stream",
     "text": [
      "GloVe ready at: glove/glove.6B.200d.txt\n"
     ]
    }
   ],
   "source": [
    "import os\n",
    "import zipfile\n",
    "import requests\n",
    "\n",
    "GLOVE_ZIP_URL = \"http://nlp.stanford.edu/data/glove.6B.zip\"\n",
    "GLOVE_FOLDER = \"glove\"\n",
    "GLOVE_ZIP_PATH = \"glove.zip\"\n",
    "\n",
    "if not os.path.exists(GLOVE_FOLDER):\n",
    "    print(\"Downloading GloVe vectors (bypassing SSL verification)...\")\n",
    "    response = requests.get(GLOVE_ZIP_URL, verify=False)\n",
    "    with open(GLOVE_ZIP_PATH, 'wb') as f:\n",
    "        f.write(response.content)\n",
    "\n",
    "    print(\"Extracting...\")\n",
    "    with zipfile.ZipFile(GLOVE_ZIP_PATH, 'r') as zip_ref:\n",
    "        zip_ref.extractall(GLOVE_FOLDER)\n",
    "\n",
    "    os.remove(GLOVE_ZIP_PATH)\n",
    "\n",
    "glove_path = f\"{GLOVE_FOLDER}/glove.6B.{GLOVE_DIM}d.txt\"\n",
    "print(f\"GloVe ready at: {glove_path}\")\n"
   ]
  },
  {
   "cell_type": "markdown",
   "id": "f9e433ae",
   "metadata": {},
   "source": [
    "### 1. Imports, setup and downloads"
   ]
  },
  {
   "cell_type": "code",
   "execution_count": 4,
   "id": "6a01bc48",
   "metadata": {},
   "outputs": [
    {
     "name": "stderr",
     "output_type": "stream",
     "text": [
      "[nltk_data] Downloading package punkt to\n",
      "[nltk_data]     C:\\Users\\tom_n\\AppData\\Roaming\\nltk_data...\n",
      "[nltk_data]   Package punkt is already up-to-date!\n",
      "[nltk_data] Downloading package punkt_tab to\n",
      "[nltk_data]     C:\\Users\\tom_n\\AppData\\Roaming\\nltk_data...\n",
      "[nltk_data]   Package punkt_tab is already up-to-date!\n",
      "[nltk_data] Downloading package stopwords to\n",
      "[nltk_data]     C:\\Users\\tom_n\\AppData\\Roaming\\nltk_data...\n",
      "[nltk_data]   Package stopwords is already up-to-date!\n",
      "[nltk_data] Downloading package stopwords to\n",
      "[nltk_data]     C:\\Users\\tom_n\\AppData\\Roaming\\nltk_data...\n",
      "[nltk_data]   Package stopwords is already up-to-date!\n"
     ]
    }
   ],
   "source": [
    "import numpy as np\n",
    "import nltk\n",
    "import re\n",
    "from nltk.tokenize import word_tokenize\n",
    "from sklearn.metrics.pairwise import cosine_similarity\n",
    "import seaborn as sns\n",
    "import matplotlib.pyplot as plt\n",
    "\n",
    "# One-time downloads\n",
    "nltk.download('punkt')\n",
    "nltk.download('punkt_tab')\n",
    "nltk.download('stopwords')\n",
    "\n",
    "# Stopword set\n",
    "if REMOVE_STOPWORDS:\n",
    "    nltk.download('stopwords')\n",
    "    from nltk.corpus import stopwords\n",
    "    stop_words = set(stopwords.words('english'))\n",
    "    \n",
    "if LEMATIZE:\n",
    "    nltk.download('averaged_perceptron_tagger')\n",
    "    nltk.download('wordnet')\n",
    "    from nltk import pos_tag\n",
    "    from nltk.corpus import wordnet\n",
    "    from nltk.stem import WordNetLemmatizer"
   ]
  },
  {
   "cell_type": "markdown",
   "id": "4af4c2a3",
   "metadata": {},
   "source": [
    "### Sample Documents (longer texts)"
   ]
  },
  {
   "cell_type": "code",
   "execution_count": 5,
   "id": "a5a1c02a",
   "metadata": {},
   "outputs": [],
   "source": [
    "docs = [\n",
    "    \"\"\"Natural language processing (NLP) is a subfield of linguistics, computer science, and artificial intelligence concerned with the interactions between computers and human language. It focuses on how to program computers to process and analyze large amounts of natural language data.\"\"\",\n",
    "\n",
    "    \"\"\"Machine learning (ML) is a type of artificial intelligence that enables systems to learn and improve from experience without being explicitly programmed. ML algorithms build a mathematical model based on sample data, known as training data, to make predictions or decisions.\"\"\",\n",
    "\n",
    "    \"\"\"The Federal Reserve raised interest rates to combat inflation. Higher interest rates can slow borrowing, reduce consumer spending, and cool down an overheating economy. Investors reacted to the Fed's decisions with market volatility.\"\"\"\n",
    "]\n",
    "\n",
    "labels = [\"NLP\", \"Machine Learning\", \"Interest Rates\"]\n"
   ]
  },
  {
   "cell_type": "markdown",
   "id": "6d9270de",
   "metadata": {},
   "source": [
    "### 2. Tokenize and build Vocabulary from Docs\n"
   ]
  },
  {
   "cell_type": "code",
   "execution_count": 6,
   "id": "7dcf7022",
   "metadata": {},
   "outputs": [],
   "source": [
    "if LEMATIZE:\n",
    "    lemmatizer = WordNetLemmatizer()\n",
    "    \n",
    "    # Helper: Convert POS tag to WordNet format\n",
    "    def get_wordnet_pos(treebank_tag):\n",
    "        if treebank_tag.startswith('J'):\n",
    "            return wordnet.ADJ\n",
    "        elif treebank_tag.startswith('V'):\n",
    "           return wordnet.VERB\n",
    "        elif treebank_tag.startswith('N'):\n",
    "           return wordnet.NOUN\n",
    "        elif treebank_tag.startswith('R'):\n",
    "            return wordnet.ADV\n",
    "        else:\n",
    "            return wordnet.NOUN  # Default"
   ]
  },
  {
   "cell_type": "code",
   "execution_count": 7,
   "id": "b95d2588",
   "metadata": {},
   "outputs": [],
   "source": [
    "def preprocess_tokens(text):\n",
    "    tokens = word_tokenize(text.lower())\n",
    "    tokens = [w for w in tokens if w.isalpha()]\n",
    "    \n",
    "    if REMOVE_STOPWORDS:\n",
    "        tokens = [w for w in tokens if w not in stop_words]\n",
    "    \n",
    "    if LEMATIZE:\n",
    "        tagged = pos_tag(tokens)\n",
    "        tokens = [\n",
    "            lemmatizer.lemmatize(w, get_wordnet_pos(pos))\n",
    "            for w, pos in tagged\n",
    "        ]\n",
    "    return tokens\n"
   ]
  },
  {
   "cell_type": "code",
   "execution_count": 8,
   "id": "78356b99",
   "metadata": {},
   "outputs": [],
   "source": [
    "# extract doc vocab\n",
    "def extract_tokens(doc):\n",
    "    tokens = preprocess_tokens(doc.lower())\n",
    "    return tokens"
   ]
  },
  {
   "cell_type": "code",
   "execution_count": 9,
   "id": "ebc44f8a",
   "metadata": {},
   "outputs": [],
   "source": [
    "\n",
    "# Collect all needed tokens from the documents\n",
    "def extract_vocab(docs):\n",
    "    vocab = set()\n",
    "    for doc in docs:\n",
    "        tokens = extract_tokens(doc)\n",
    "        vocab.update(tokens)\n",
    "    return vocab\n",
    "\n",
    "vocab = extract_vocab(docs)\n"
   ]
  },
  {
   "cell_type": "markdown",
   "id": "842e63a8",
   "metadata": {},
   "source": [
    "### 3. Load Only Needed GloVe Vectors"
   ]
  },
  {
   "cell_type": "code",
   "execution_count": 10,
   "id": "fe903329",
   "metadata": {},
   "outputs": [
    {
     "name": "stdout",
     "output_type": "stream",
     "text": [
      "Loading GloVe vectors that we need...\n",
      "Loaded 65 word vectors out of 65 requested.\n"
     ]
    }
   ],
   "source": [
    "if LOAD_ALL_GLOVE:\n",
    "    print(\"Loading all GloVe vectors...\")\n",
    "    import numpy as np\n",
    "    # Load all GloVe vectors\n",
    "    def load_glove_all(path):\n",
    "        glove = {}\n",
    "        with open(path, encoding=\"utf8\") as f:\n",
    "            for line in f:\n",
    "                word, *vec = line.split()\n",
    "                glove[word] = np.array(vec, dtype='float32')\n",
    "        return glove\n",
    "\n",
    "    glove = load_glove_all(glove_path)\n",
    "    print(f\"Loaded {len(glove)} word vectors from GloVe.\")\n",
    "    \n",
    "    # def load_glove_vectors(path):\n",
    "    #     embeddings = {}\n",
    "    #     with open(path, encoding=\"utf8\") as f:\n",
    "    #         for line in f:\n",
    "    #             values = line.split()\n",
    "    #             word = values[0]\n",
    "    #             vec = np.array(values[1:], dtype='float32')\n",
    "    #             embeddings[word] = vec\n",
    "    #     return embeddings\n",
    "\n",
    "    # glove = load_glove_vectors(glove_path)\n",
    "    # print(\"Loaded GloVe. Total words:\", len(glove))\n",
    "else:\n",
    "    print(\"Loading GloVe vectors that we need...\")\n",
    "    # Load only vectors we need\n",
    "    def load_glove_subset(path, vocab, dim=100):\n",
    "        glove = {}\n",
    "        with open(path, encoding=\"utf8\") as f:\n",
    "            for line in f:\n",
    "                word, *vec = line.split()\n",
    "                if word in vocab:\n",
    "                    glove[word] = np.array(vec, dtype='float32')\n",
    "                if len(glove) == len(vocab):\n",
    "                    break\n",
    "        return glove\n",
    "\n",
    "    #glove_path = \"D:/data/glove.6B.300d.txt\"  # adjust if needed\n",
    "    glove = load_glove_subset(glove_path, vocab)\n",
    "    print(f\"Loaded {len(glove)} word vectors out of {len(vocab)} requested.\")\n"
   ]
  },
  {
   "cell_type": "markdown",
   "id": "fd4762de",
   "metadata": {},
   "source": [
    "### 5. Convert Documents to Average Vectors"
   ]
  },
  {
   "cell_type": "code",
   "execution_count": 11,
   "id": "e65f2218",
   "metadata": {},
   "outputs": [],
   "source": [
    "# Convert doc to averaged vector\n",
    "def doc_to_vec(text, glove, dim=GLOVE_DIM):\n",
    "    tokens = extract_tokens(text)\n",
    "    vecs = [glove[w] for w in tokens if w in glove]\n",
    "    if not vecs:\n",
    "        return np.zeros(dim)\n",
    "    return np.mean(vecs, axis=0)\n",
    "\n",
    "doc_vectors = np.array([doc_to_vec(doc, glove) for doc in docs])\n"
   ]
  },
  {
   "cell_type": "markdown",
   "id": "1e091916",
   "metadata": {},
   "source": [
    "### 6. Cosine Similarity + Heatmap"
   ]
  },
  {
   "cell_type": "code",
   "execution_count": 12,
   "id": "d1ab3129",
   "metadata": {},
   "outputs": [
    {
     "data": {
      "image/png": "[encoded data removed]",
      "text/plain": [
       "<Figure size 600x500 with 2 Axes>"
      ]
     },
     "metadata": {},
     "output_type": "display_data"
    },
    {
     "name": "stdout",
     "output_type": "stream",
     "text": [
      "TF-IDF Cosine Similarity Matrix:\n",
      "[[1.   0.87 0.55]\n",
      " [0.87 1.   0.6 ]\n",
      " [0.55 0.6  1.  ]]\n",
      "Glove dim: 200\n",
      "Stop-words removed: True  | Lemmatization: False\n"
     ]
    }
   ],
   "source": [
    "cos_sim = cosine_similarity(doc_vectors)\n",
    "\n",
    "plt.figure(figsize=(6, 5))\n",
    "sns.heatmap(cos_sim, annot=True, xticklabels=labels, yticklabels=labels, cmap=\"Greens\", fmt=\".2f\")\n",
    "plt.title(f\"Document Similarity via GloVe ({GLOVE_DIM}d)\")\n",
    "plt.show()\n",
    "\n",
    "# Display matrix\n",
    "print(\"TF-IDF Cosine Similarity Matrix:\")\n",
    "print(np.round(cos_sim, 2))\n",
    "\n",
    "print(f\"Glove dim: {GLOVE_DIM}\")\n",
    "print(f\"Stop-words removed: {REMOVE_STOPWORDS}  | Lemmatization: {LEMATIZE}\")"
   ]
  },
  {
   "cell_type": "code",
   "execution_count": null,
   "id": "df7b0548",
   "metadata": {},
   "outputs": [],
   "source": []
  }
 ],
 "metadata": {
  "kernelspec": {
   "display_name": "Python (NLP)",
   "language": "python",
   "name": "venv_for_nlp"
  },
  "language_info": {
   "codemirror_mode": {
    "name": "ipython",
    "version": 3
   },
   "file_extension": ".py",
   "mimetype": "text/x-python",
   "name": "python",
   "nbconvert_exporter": "python",
   "pygments_lexer": "ipython3",
   "version": "3.13.2"
  }
 },
 "nbformat": 4,
 "nbformat_minor": 5
}
