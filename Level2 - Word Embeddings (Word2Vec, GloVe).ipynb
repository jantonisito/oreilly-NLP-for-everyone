{
 "cells": [
  {
   "cell_type": "markdown",
   "id": "d573e190",
   "metadata": {},
   "source": [
    "Load pre-trained GloVe vectors\n",
    "\n",
    "Tokenize each document\n",
    "\n",
    "For each doc:\n",
    "\n",
    "Remove stopwords\n",
    "\n",
    "Lemmatize (optional)\n",
    "\n",
    "Get vector for each word\n",
    "\n",
    "Average them → document vector\n",
    "\n",
    "Compute cosine similarity between document vectors\n",
    "\n",
    "Plot a heatmap"
   ]
  },
  {
   "cell_type": "markdown",
   "id": "98f07d64",
   "metadata": {},
   "source": [
    "0. Path to Glove data"
   ]
  },
  {
   "cell_type": "code",
   "execution_count": 6,
   "id": "eae5f775",
   "metadata": {},
   "outputs": [],
   "source": [
    "glove_path = \"D:/work/_Languages/Python/glove/glove.6B.300d.txt\""
   ]
  },
  {
   "cell_type": "markdown",
   "id": "43e7f384",
   "metadata": {},
   "source": [
    "Old version of load_glove_vectors - loads ALL data"
   ]
  },
  {
   "cell_type": "code",
   "execution_count": null,
   "id": "149b27d2",
   "metadata": {},
   "outputs": [],
   "source": [
    "import numpy as np\n",
    "\n",
    "# Set path to GloVe file\n",
    "#glove_path = \"D:/data/glove.6B.300d.txt\"\n",
    "\n",
    "# Load GloVe embeddings\n",
    "def load_glove_vectors(path):\n",
    "    embeddings = {}\n",
    "    with open(path, encoding=\"utf8\") as f:\n",
    "        for line in f:\n",
    "            values = line.split()\n",
    "            word = values[0]\n",
    "            vec = np.array(values[1:], dtype='float32')\n",
    "            embeddings[word] = vec\n",
    "    return embeddings\n",
    "\n",
    "glove = load_glove_vectors(glove_path)\n",
    "print(\"Loaded GloVe. Total words:\", len(glove))\n"
   ]
  },
  {
   "cell_type": "markdown",
   "id": "f9e433ae",
   "metadata": {},
   "source": [
    "1. Imports and Setup"
   ]
  },
  {
   "cell_type": "code",
   "execution_count": 1,
   "id": "6a01bc48",
   "metadata": {},
   "outputs": [
    {
     "name": "stderr",
     "output_type": "stream",
     "text": [
      "[nltk_data] Downloading package punkt to\n",
      "[nltk_data]     C:\\Users\\tom_n\\AppData\\Roaming\\nltk_data...\n",
      "[nltk_data]   Package punkt is already up-to-date!\n",
      "[nltk_data] Downloading package punkt_tab to\n",
      "[nltk_data]     C:\\Users\\tom_n\\AppData\\Roaming\\nltk_data...\n",
      "[nltk_data]   Package punkt_tab is already up-to-date!\n",
      "[nltk_data] Downloading package stopwords to\n",
      "[nltk_data]     C:\\Users\\tom_n\\AppData\\Roaming\\nltk_data...\n",
      "[nltk_data]   Package stopwords is already up-to-date!\n"
     ]
    }
   ],
   "source": [
    "import numpy as np\n",
    "import nltk\n",
    "import re\n",
    "from nltk.corpus import stopwords\n",
    "from nltk.tokenize import word_tokenize\n",
    "from sklearn.metrics.pairwise import cosine_similarity\n",
    "import seaborn as sns\n",
    "import matplotlib.pyplot as plt\n",
    "\n",
    "# One-time downloads\n",
    "nltk.download('punkt')\n",
    "nltk.download('punkt_tab')\n",
    "nltk.download('stopwords')\n",
    "\n",
    "# Stopword set\n",
    "stop_words = set(stopwords.words('english'))\n"
   ]
  },
  {
   "cell_type": "markdown",
   "id": "4af4c2a3",
   "metadata": {},
   "source": [
    "2. Sample Documents (longer texts)"
   ]
  },
  {
   "cell_type": "code",
   "execution_count": 2,
   "id": "a5a1c02a",
   "metadata": {},
   "outputs": [],
   "source": [
    "docs = [\n",
    "    \"\"\"Natural language processing (NLP) is a subfield of linguistics, computer science, and artificial intelligence concerned with the interactions between computers and human language. It focuses on how to program computers to process and analyze large amounts of natural language data.\"\"\",\n",
    "\n",
    "    \"\"\"Machine learning (ML) is a type of artificial intelligence that enables systems to learn and improve from experience without being explicitly programmed. ML algorithms build a mathematical model based on sample data, known as training data, to make predictions or decisions.\"\"\",\n",
    "\n",
    "    \"\"\"The Federal Reserve raised interest rates to combat inflation. Higher interest rates can slow borrowing, reduce consumer spending, and cool down an overheating economy. Investors reacted to the Fed's decisions with market volatility.\"\"\"\n",
    "]\n",
    "\n",
    "labels = [\"NLP\", \"Machine Learning\", \"Interest Rates\"]\n"
   ]
  },
  {
   "cell_type": "markdown",
   "id": "6d9270de",
   "metadata": {},
   "source": [
    "3. Build Vocabulary from Docs\n"
   ]
  },
  {
   "cell_type": "code",
   "execution_count": 3,
   "id": "ebc44f8a",
   "metadata": {},
   "outputs": [],
   "source": [
    "# Collect all needed tokens from the documents\n",
    "def extract_vocab(docs):\n",
    "    vocab = set()\n",
    "    for doc in docs:\n",
    "        tokens = word_tokenize(doc.lower())\n",
    "        tokens = [w for w in tokens if w.isalpha() and w not in stop_words]\n",
    "        vocab.update(tokens)\n",
    "    return vocab\n",
    "\n",
    "vocab = extract_vocab(docs)\n"
   ]
  },
  {
   "cell_type": "markdown",
   "id": "842e63a8",
   "metadata": {},
   "source": [
    "4. Load Only Needed GloVe Vectors"
   ]
  },
  {
   "cell_type": "code",
   "execution_count": 7,
   "id": "fe903329",
   "metadata": {},
   "outputs": [
    {
     "name": "stdout",
     "output_type": "stream",
     "text": [
      "Loaded 65 word vectors out of 65 requested.\n"
     ]
    }
   ],
   "source": [
    "# Load only vectors we need\n",
    "def load_glove_subset(path, vocab, dim=300):\n",
    "    glove = {}\n",
    "    with open(path, encoding=\"utf8\") as f:\n",
    "        for line in f:\n",
    "            word, *vec = line.split()\n",
    "            if word in vocab:\n",
    "                glove[word] = np.array(vec, dtype='float32')\n",
    "            if len(glove) == len(vocab):\n",
    "                break\n",
    "    return glove\n",
    "\n",
    "#glove_path = \"D:/data/glove.6B.300d.txt\"  # adjust if needed\n",
    "glove = load_glove_subset(glove_path, vocab)\n",
    "print(f\"Loaded {len(glove)} word vectors out of {len(vocab)} requested.\")\n"
   ]
  },
  {
   "cell_type": "markdown",
   "id": "fd4762de",
   "metadata": {},
   "source": [
    "5. Convert Documents to Average Vectors"
   ]
  },
  {
   "cell_type": "code",
   "execution_count": 8,
   "id": "e65f2218",
   "metadata": {},
   "outputs": [],
   "source": [
    "# Convert doc to averaged vector\n",
    "def doc_to_vec(text, glove, dim=300):\n",
    "    tokens = word_tokenize(text.lower())\n",
    "    tokens = [w for w in tokens if w.isalpha() and w not in stop_words]\n",
    "    vecs = [glove[w] for w in tokens if w in glove]\n",
    "    if not vecs:\n",
    "        return np.zeros(dim)\n",
    "    return np.mean(vecs, axis=0)\n",
    "\n",
    "doc_vectors = np.array([doc_to_vec(doc, glove) for doc in docs])\n"
   ]
  },
  {
   "cell_type": "markdown",
   "id": "1e091916",
   "metadata": {},
   "source": [
    "6. Cosine Similarity + Heatmap"
   ]
  },
  {
   "cell_type": "code",
   "execution_count": 9,
   "id": "d1ab3129",
   "metadata": {},
   "outputs": [
    {
     "data": {
      "image/png": "[encoded data removed]",
      "text/plain": [
       "<Figure size 600x500 with 2 Axes>"
      ]
     },
     "metadata": {},
     "output_type": "display_data"
    }
   ],
   "source": [
    "cos_sim = cosine_similarity(doc_vectors)\n",
    "\n",
    "plt.figure(figsize=(6, 5))\n",
    "sns.heatmap(cos_sim, annot=True, xticklabels=labels, yticklabels=labels, cmap=\"Greens\", fmt=\".2f\")\n",
    "plt.title(\"Document Similarity via GloVe (300d)\")\n",
    "plt.show()\n"
   ]
  }
 ],
 "metadata": {
  "kernelspec": {
   "display_name": "Python (NLP)",
   "language": "python",
   "name": "venv_for_nlp"
  },
  "language_info": {
   "codemirror_mode": {
    "name": "ipython",
    "version": 3
   },
   "file_extension": ".py",
   "mimetype": "text/x-python",
   "name": "python",
   "nbconvert_exporter": "python",
   "pygments_lexer": "ipython3",
   "version": "3.13.2"
  }
 },
 "nbformat": 4,
 "nbformat_minor": 5
}
